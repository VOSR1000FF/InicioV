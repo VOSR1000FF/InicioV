{
 "cells": [
  {
   "cell_type": "markdown",
   "id": "adeb8993",
   "metadata": {},
   "source": [
    "# Characterization and detection of CPE on wastewater of La Paz city #"
   ]
  }
 ],
 "metadata": {
  "kernelspec": {
   "display_name": "vicos",
   "language": "python",
   "name": "python3"
  },
  "language_info": {
   "name": "python",
   "version": "3.12.11"
  }
 },
 "nbformat": 4,
 "nbformat_minor": 5
}
